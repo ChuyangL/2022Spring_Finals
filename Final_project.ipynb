{
 "cells": [
  {
   "cell_type": "code",
   "execution_count": 57,
   "id": "45190cee",
   "metadata": {},
   "outputs": [
    {
     "name": "stdout",
     "output_type": "stream",
     "text": [
      "Collecting plotly-express\n",
      "  Downloading plotly_express-0.4.1-py2.py3-none-any.whl (2.9 kB)\n",
      "Requirement already satisfied: scipy>=0.18 in d:\\program\\python\\lib\\site-packages (from plotly-express) (1.8.0)\n",
      "Requirement already satisfied: plotly>=4.1.0 in d:\\program\\python\\lib\\site-packages (from plotly-express) (5.6.0)\n",
      "Requirement already satisfied: pandas>=0.20.0 in d:\\program\\python\\lib\\site-packages (from plotly-express) (1.3.2)\n",
      "Requirement already satisfied: numpy>=1.11 in d:\\program\\python\\lib\\site-packages (from plotly-express) (1.20.0)\n",
      "Collecting statsmodels>=0.9.0\n",
      "  Downloading statsmodels-0.13.2-cp38-cp38-win32.whl (8.7 MB)\n",
      "Collecting patsy>=0.5\n",
      "  Downloading patsy-0.5.2-py2.py3-none-any.whl (233 kB)\n",
      "Requirement already satisfied: pytz>=2017.3 in d:\\program\\python\\lib\\site-packages (from pandas>=0.20.0->plotly-express) (2021.1)\n",
      "Requirement already satisfied: python-dateutil>=2.7.3 in d:\\program\\python\\lib\\site-packages (from pandas>=0.20.0->plotly-express) (2.8.2)\n",
      "Requirement already satisfied: six in d:\\program\\python\\lib\\site-packages (from patsy>=0.5->plotly-express) (1.16.0)\n",
      "Requirement already satisfied: tenacity>=6.2.0 in d:\\program\\python\\lib\\site-packages (from plotly>=4.1.0->plotly-express) (8.0.1)\n",
      "Requirement already satisfied: packaging>=21.3 in d:\\program\\python\\lib\\site-packages (from statsmodels>=0.9.0->plotly-express) (21.3)\n",
      "Requirement already satisfied: pyparsing!=3.0.5,>=2.0.2 in d:\\program\\python\\lib\\site-packages (from packaging>=21.3->statsmodels>=0.9.0->plotly-express) (3.0.7)\n",
      "Installing collected packages: patsy, statsmodels, plotly-express\n",
      "Successfully installed patsy-0.5.2 plotly-express-0.4.1 statsmodels-0.13.2\n"
     ]
    },
    {
     "name": "stderr",
     "output_type": "stream",
     "text": [
      "WARNING: You are using pip version 21.2.4; however, version 22.0.4 is available.\n",
      "You should consider upgrading via the 'd:\\program\\python\\python.exe -m pip install --upgrade pip' command.\n"
     ]
    }
   ],
   "source": [
    "!pip install plotly-express\n",
    "#!pip install shapely"
   ]
  },
  {
   "cell_type": "code",
   "execution_count": 56,
   "id": "27caa9f0",
   "metadata": {},
   "outputs": [
    {
     "name": "stdout",
     "output_type": "stream",
     "text": [
      "Package                Version\n",
      "---------------------- -----------\n",
      "anyio                  3.5.0\n",
      "argon2-cffi            21.3.0\n",
      "argon2-cffi-bindings   21.2.0\n",
      "asgiref                3.4.1\n",
      "astroid                2.9.3\n",
      "asttokens              2.0.5\n",
      "atomicwrites           1.4.0\n",
      "attrs                  21.4.0\n",
      "backcall               0.2.0\n",
      "backports.zoneinfo     0.2.1\n",
      "beautifulsoup4         4.11.1\n",
      "bleach                 4.1.0\n",
      "bqplot                 0.12.33\n",
      "certifi                2021.10.8\n",
      "cffi                   1.15.0\n",
      "charset-normalizer     2.0.11\n",
      "click                  8.1.3\n",
      "click-plugins          1.1.1\n",
      "cligj                  0.7.2\n",
      "colorama               0.4.4\n",
      "coverage               6.3.1\n",
      "cryptography           36.0.1\n",
      "cycler                 0.11.0\n",
      "Cython                 0.29.28\n",
      "debugpy                1.5.1\n",
      "decorator              5.1.1\n",
      "defusedxml             0.7.1\n",
      "Django                 4.0.1\n",
      "django-cors-headers    3.11.0\n",
      "djangorestframework    3.13.1\n",
      "entrypoints            0.4\n",
      "executing              0.8.3\n",
      "fastjsonschema         2.15.3\n",
      "fonttools              4.29.1\n",
      "geographiclib          1.52\n",
      "gitdb                  4.0.9\n",
      "GitPython              3.1.27\n",
      "idna                   3.3\n",
      "importlib-resources    5.4.0\n",
      "iniconfig              1.1.1\n",
      "ipykernel              6.9.1\n",
      "ipython                8.1.1\n",
      "ipython-genutils       0.2.0\n",
      "ipywidgets             7.6.5\n",
      "isort                  5.10.1\n",
      "jedi                   0.18.1\n",
      "Jinja2                 3.0.3\n",
      "jsonschema             4.4.0\n",
      "jupyter                1.0.0\n",
      "jupyter-client         7.1.2\n",
      "jupyter-console        6.4.0\n",
      "jupyter-core           4.9.2\n",
      "jupyter-server         1.17.0\n",
      "jupyter-server-mathjax 0.2.5\n",
      "jupyterlab-pygments    0.1.2\n",
      "jupyterlab-widgets     1.0.2\n",
      "kiwisolver             1.3.2\n",
      "lazy-object-proxy      1.7.1\n",
      "llvmlite               0.38.0\n",
      "MarkupSafe             2.1.0\n",
      "matplotlib             3.5.1\n",
      "matplotlib-inline      0.1.3\n",
      "mccabe                 0.6.1\n",
      "mistune                0.8.4\n",
      "munch                  2.5.0\n",
      "mysql-connector-python 8.0.26\n",
      "nbclient               0.5.11\n",
      "nbconvert              6.5.0\n",
      "nbdime                 3.1.1\n",
      "nbformat               5.3.0\n",
      "nest-asyncio           1.5.4\n",
      "networkx               2.8\n",
      "notebook               6.4.8\n",
      "null                   0.6.1\n",
      "numba                  0.55.1\n",
      "numpy                  1.20.0\n",
      "packaging              21.3\n",
      "pandas                 1.3.2\n",
      "pandocfilters          1.5.0\n",
      "parso                  0.8.3\n",
      "pickleshare            0.7.5\n",
      "Pillow                 9.0.1\n",
      "pip                    21.2.4\n",
      "platformdirs           2.4.1\n",
      "plotly                 5.6.0\n",
      "pluggy                 1.0.0\n",
      "prometheus-client      0.13.1\n",
      "prompt-toolkit         3.0.28\n",
      "pure-eval              0.2.2\n",
      "py                     1.11.0\n",
      "pycparser              2.21\n",
      "Pygments               2.11.2\n",
      "pylint                 2.12.2\n",
      "PyMySQL                1.0.2\n",
      "pyparsing              3.0.7\n",
      "pyproj                 3.3.1\n",
      "pyrsistent             0.18.1\n",
      "pytest                 7.0.0\n",
      "pytest_notebook        0.7.0\n",
      "python-dateutil        2.8.2\n",
      "pytz                   2021.1\n",
      "pywin32                303\n",
      "pywinpty               0.5.7\n",
      "pyzmq                  22.3.0\n",
      "qtconsole              5.2.2\n",
      "QtPy                   2.0.1\n",
      "requests               2.27.1\n",
      "scipy                  1.8.0\n",
      "seaborn                0.11.2\n",
      "Send2Trash             1.8.0\n",
      "setuptools             49.2.1\n",
      "Shapely                1.8.2\n",
      "six                    1.16.0\n",
      "smmap                  5.0.0\n",
      "sniffio                1.2.0\n",
      "soupsieve              2.3.2.post1\n",
      "sqlparse               0.4.2\n",
      "stack-data             0.2.0\n",
      "tenacity               8.0.1\n",
      "terminado              0.9.5\n",
      "testpath               0.6.0\n",
      "tinycss2               1.1.1\n",
      "toml                   0.10.2\n",
      "tomli                  2.0.1\n",
      "tornado                6.1\n",
      "traitlets              5.1.1\n",
      "traittypes             0.2.1\n",
      "typing_extensions      4.0.1\n",
      "tzdata                 2021.5\n",
      "urllib3                1.26.8\n",
      "wcwidth                0.2.5\n",
      "webencodings           0.5.1\n",
      "websocket-client       1.3.2\n",
      "widgetsnbextension     3.5.2\n",
      "wrapt                  1.13.3\n",
      "zipp                   3.7.0\n",
      "Note: you may need to restart the kernel to use updated packages.\n"
     ]
    },
    {
     "name": "stderr",
     "output_type": "stream",
     "text": [
      "WARNING: You are using pip version 21.2.4; however, version 22.0.4 is available.\n",
      "You should consider upgrading via the 'D:\\program\\Python\\python.exe -m pip install --upgrade pip' command.\n"
     ]
    }
   ],
   "source": [
    "pip list"
   ]
  },
  {
   "cell_type": "code",
   "execution_count": 69,
   "id": "c42750c3",
   "metadata": {},
   "outputs": [],
   "source": [
    "import numpy as np\n",
    "import pandas as pd\n",
    "import matplotlib.pyplot as plt\n",
    "import typing\n",
    "import project as p\n",
    "import plotly.express as px"
   ]
  },
  {
   "cell_type": "markdown",
   "id": "ea3f3666",
   "metadata": {},
   "source": [
    "### Hypothesis 1: The borrowers using Lending Club have worse economic situations than borrowers from all other lending resources"
   ]
  },
  {
   "cell_type": "markdown",
   "id": "41b086ab",
   "metadata": {},
   "source": [
    "To explore whether and to what extent the above findings on good debt and bad debt can be generalized to other general borrowing channels, our team wanted to explore the differences in economic status between those who borrow at lending club and other general borrowers. We assumed that borrowers in lending club would be worse off than other general borrowers and selected income, debt, and income to debt ratio as measures.\n",
    "We used data from Survey of Consumer Finances in 2010 and 2019 as sample of general borrowers by filtering data points with debt. We also adjusted the effect of inflation on data in 2019 based on Consumer Price Index(CPI).\n",
    "\n",
    "data source: https://www.federalreserve.gov/econres/scf_2010.htm#EXCELDATEX  \n",
    "detailed description: https://sda.berkeley.edu/sdaweb/docs/scfcomb2019/DOC/hcbkx01.htm#1.HEADING  \n",
    "cpi source: https://www.minneapolisfed.org/about-us/monetary-policy/inflation-calculator/consumer-price-index-1913-"
   ]
  },
  {
   "cell_type": "code",
   "execution_count": 3,
   "id": "7d65423b",
   "metadata": {},
   "outputs": [
    {
     "data": {
      "text/html": [
       "<div>\n",
       "<style scoped>\n",
       "    .dataframe tbody tr th:only-of-type {\n",
       "        vertical-align: middle;\n",
       "    }\n",
       "\n",
       "    .dataframe tbody tr th {\n",
       "        vertical-align: top;\n",
       "    }\n",
       "\n",
       "    .dataframe thead th {\n",
       "        text-align: right;\n",
       "    }\n",
       "</style>\n",
       "<table border=\"1\" class=\"dataframe\">\n",
       "  <thead>\n",
       "    <tr style=\"text-align: right;\">\n",
       "      <th></th>\n",
       "      <th>INCOME</th>\n",
       "      <th>DEBT</th>\n",
       "      <th>DEBT2INC</th>\n",
       "      <th>deinf_INCOME</th>\n",
       "      <th>deinf_DEBT</th>\n",
       "      <th>deinf_DEBT2INC</th>\n",
       "    </tr>\n",
       "    <tr>\n",
       "      <th>YY1</th>\n",
       "      <th></th>\n",
       "      <th></th>\n",
       "      <th></th>\n",
       "      <th></th>\n",
       "      <th></th>\n",
       "      <th></th>\n",
       "    </tr>\n",
       "  </thead>\n",
       "  <tbody>\n",
       "    <tr>\n",
       "      <th>2</th>\n",
       "      <td>38484.856680</td>\n",
       "      <td>13920.0</td>\n",
       "      <td>0.361557</td>\n",
       "      <td>32825.761603</td>\n",
       "      <td>11873.101291</td>\n",
       "      <td>0.361557</td>\n",
       "    </tr>\n",
       "    <tr>\n",
       "      <th>3</th>\n",
       "      <td>104866.143860</td>\n",
       "      <td>250.0</td>\n",
       "      <td>0.002384</td>\n",
       "      <td>89445.858333</td>\n",
       "      <td>213.238170</td>\n",
       "      <td>0.002384</td>\n",
       "    </tr>\n",
       "    <tr>\n",
       "      <th>4</th>\n",
       "      <td>124210.383990</td>\n",
       "      <td>388900.0</td>\n",
       "      <td>3.130978</td>\n",
       "      <td>105945.579774</td>\n",
       "      <td>331713.296832</td>\n",
       "      <td>3.130978</td>\n",
       "    </tr>\n",
       "    <tr>\n",
       "      <th>5</th>\n",
       "      <td>29729.042725</td>\n",
       "      <td>680.0</td>\n",
       "      <td>0.022877</td>\n",
       "      <td>25357.466634</td>\n",
       "      <td>580.007822</td>\n",
       "      <td>0.022877</td>\n",
       "    </tr>\n",
       "    <tr>\n",
       "      <th>6</th>\n",
       "      <td>27489.183342</td>\n",
       "      <td>14054.0</td>\n",
       "      <td>0.511256</td>\n",
       "      <td>23446.972573</td>\n",
       "      <td>11987.396950</td>\n",
       "      <td>0.511256</td>\n",
       "    </tr>\n",
       "    <tr>\n",
       "      <th>...</th>\n",
       "      <td>...</td>\n",
       "      <td>...</td>\n",
       "      <td>...</td>\n",
       "      <td>...</td>\n",
       "      <td>...</td>\n",
       "      <td>...</td>\n",
       "    </tr>\n",
       "    <tr>\n",
       "      <th>5809</th>\n",
       "      <td>3481.963223</td>\n",
       "      <td>738.0</td>\n",
       "      <td>0.216294</td>\n",
       "      <td>2969.949859</td>\n",
       "      <td>629.479077</td>\n",
       "      <td>0.216294</td>\n",
       "    </tr>\n",
       "    <tr>\n",
       "      <th>5810</th>\n",
       "      <td>52534.883721</td>\n",
       "      <td>10400.0</td>\n",
       "      <td>0.198101</td>\n",
       "      <td>44809.769806</td>\n",
       "      <td>8870.707861</td>\n",
       "      <td>0.198101</td>\n",
       "    </tr>\n",
       "    <tr>\n",
       "      <th>5811</th>\n",
       "      <td>356748.512710</td>\n",
       "      <td>774000.0</td>\n",
       "      <td>2.169600</td>\n",
       "      <td>304289.599617</td>\n",
       "      <td>660185.373485</td>\n",
       "      <td>2.169600</td>\n",
       "    </tr>\n",
       "    <tr>\n",
       "      <th>5812</th>\n",
       "      <td>91630.611142</td>\n",
       "      <td>400000.0</td>\n",
       "      <td>4.384220</td>\n",
       "      <td>78156.575245</td>\n",
       "      <td>341181.071568</td>\n",
       "      <td>4.384220</td>\n",
       "    </tr>\n",
       "    <tr>\n",
       "      <th>5813</th>\n",
       "      <td>406839.913466</td>\n",
       "      <td>46800.0</td>\n",
       "      <td>0.115013</td>\n",
       "      <td>347015.194083</td>\n",
       "      <td>39918.185373</td>\n",
       "      <td>0.115013</td>\n",
       "    </tr>\n",
       "  </tbody>\n",
       "</table>\n",
       "<p>4273 rows × 6 columns</p>\n",
       "</div>"
      ],
      "text/plain": [
       "             INCOME      DEBT  DEBT2INC   deinf_INCOME     deinf_DEBT  \\\n",
       "YY1                                                                     \n",
       "2      38484.856680   13920.0  0.361557   32825.761603   11873.101291   \n",
       "3     104866.143860     250.0  0.002384   89445.858333     213.238170   \n",
       "4     124210.383990  388900.0  3.130978  105945.579774  331713.296832   \n",
       "5      29729.042725     680.0  0.022877   25357.466634     580.007822   \n",
       "6      27489.183342   14054.0  0.511256   23446.972573   11987.396950   \n",
       "...             ...       ...       ...            ...            ...   \n",
       "5809    3481.963223     738.0  0.216294    2969.949859     629.479077   \n",
       "5810   52534.883721   10400.0  0.198101   44809.769806    8870.707861   \n",
       "5811  356748.512710  774000.0  2.169600  304289.599617  660185.373485   \n",
       "5812   91630.611142  400000.0  4.384220   78156.575245  341181.071568   \n",
       "5813  406839.913466   46800.0  0.115013  347015.194083   39918.185373   \n",
       "\n",
       "      deinf_DEBT2INC  \n",
       "YY1                   \n",
       "2           0.361557  \n",
       "3           0.002384  \n",
       "4           3.130978  \n",
       "5           0.022877  \n",
       "6           0.511256  \n",
       "...              ...  \n",
       "5809        0.216294  \n",
       "5810        0.198101  \n",
       "5811        2.169600  \n",
       "5812        4.384220  \n",
       "5813        0.115013  \n",
       "\n",
       "[4273 rows x 6 columns]"
      ]
     },
     "execution_count": 3,
     "metadata": {},
     "output_type": "execute_result"
    }
   ],
   "source": [
    "#load data\n",
    "scfp2010 = pd.read_csv(\"SCFP2010.csv\")\n",
    "scfp2019 = pd.read_csv(\"SCFP2019.csv\")\n",
    "loan = pd.read_csv(\"loans_full_schema.csv\")\n",
    "# filter people who have debt\n",
    "scfp2010 = p.filter_debt(scfp2010)\n",
    "scfp2019 = p.filter_debt(scfp2019)\n",
    "# group by case id\n",
    "scfp2010_byCase = p.group_by_case(scfp2010)\n",
    "scfp2019_byCase = p.de_inflation(p.group_by_case(scfp2019))\n",
    "#sample data\n",
    "scfp2019_byCase"
   ]
  },
  {
   "cell_type": "markdown",
   "id": "c96d34e8",
   "metadata": {},
   "source": [
    "### compare income"
   ]
  },
  {
   "cell_type": "code",
   "execution_count": 4,
   "id": "0c8ea29a",
   "metadata": {},
   "outputs": [
    {
     "data": {
      "image/png": "[encoded data removed]",
      "text/plain": [
       "<Figure size 576x360 with 3 Axes>"
      ]
     },
     "metadata": {
      "needs_background": "light"
     },
     "output_type": "display_data"
    }
   ],
   "source": [
    "loan_Income=loan[\"annual_income\"]\n",
    "scfp2010_Income = scfp2010_byCase[\"INCOME\"]\n",
    "scfp2019_Income = scfp2019_byCase[\"deinf_INCOME\"]\n",
    "p.draw_outliers([loan_Income, scfp2010_Income, scfp2019_Income], 'Distribution of Income of different categories')"
   ]
  },
  {
   "cell_type": "markdown",
   "id": "6e1bdbbb",
   "metadata": {},
   "source": [
    "Since there were too many outliers in the sample, making the total income range very large, we filtered the group with annual income less than 200,000 to obtain more significant visualization results. We will conduct a separate analysis later for those with incomes greater than 200,000."
   ]
  },
  {
   "cell_type": "code",
   "execution_count": 42,
   "id": "bb26ea3c",
   "metadata": {},
   "outputs": [
    {
     "data": {
      "image/png": "[encoded data removed]",
      "text/plain": [
       "<Figure size 432x288 with 1 Axes>"
      ]
     },
     "metadata": {
      "needs_background": "light"
     },
     "output_type": "display_data"
    },
    {
     "data": {
      "image/png": "[encoded data removed]",
      "text/plain": [
       "<Figure size 576x360 with 3 Axes>"
      ]
     },
     "metadata": {
      "needs_background": "light"
     },
     "output_type": "display_data"
    }
   ],
   "source": [
    "income_remove_outlier=p.remove_outlier([loan_Income, scfp2010_Income,scfp2019_Income], 200000)\n",
    "p.draw_outliers(income_remove_outlier, 'Distribution of Income of different categories after removing outliers(>200k)')"
   ]
  },
  {
   "cell_type": "markdown",
   "id": "1047aab1",
   "metadata": {},
   "source": [
    "When high income is removed, we can see that the main annual income ranges of these three groups are very close to each other. However, the main center of distribution for those who borrowed at lending club is located in the range of 25k-75k, while the center of income distribution for the general borrower is more to the left, around 25k. This seems to be inconsistent with our hypothesis."
   ]
  },
  {
   "cell_type": "code",
   "execution_count": 6,
   "id": "441a582d",
   "metadata": {},
   "outputs": [
    {
     "data": {
      "text/html": [
       "<div>\n",
       "<style scoped>\n",
       "    .dataframe tbody tr th:only-of-type {\n",
       "        vertical-align: middle;\n",
       "    }\n",
       "\n",
       "    .dataframe tbody tr th {\n",
       "        vertical-align: top;\n",
       "    }\n",
       "\n",
       "    .dataframe thead th {\n",
       "        text-align: right;\n",
       "    }\n",
       "</style>\n",
       "<table border=\"1\" class=\"dataframe\">\n",
       "  <thead>\n",
       "    <tr style=\"text-align: right;\">\n",
       "      <th></th>\n",
       "      <th>loan_club</th>\n",
       "      <th>scfp2010</th>\n",
       "      <th>scfp2019</th>\n",
       "    </tr>\n",
       "  </thead>\n",
       "  <tbody>\n",
       "    <tr>\n",
       "      <th>&lt;25k</th>\n",
       "      <td>0.051318</td>\n",
       "      <td>0.129917</td>\n",
       "      <td>0.136256</td>\n",
       "    </tr>\n",
       "    <tr>\n",
       "      <th>25k-50k</th>\n",
       "      <td>0.267616</td>\n",
       "      <td>0.210717</td>\n",
       "      <td>0.212400</td>\n",
       "    </tr>\n",
       "    <tr>\n",
       "      <th>50k-75k</th>\n",
       "      <td>0.293275</td>\n",
       "      <td>0.166277</td>\n",
       "      <td>0.161716</td>\n",
       "    </tr>\n",
       "    <tr>\n",
       "      <th>75k-100k</th>\n",
       "      <td>0.177107</td>\n",
       "      <td>0.119711</td>\n",
       "      <td>0.108204</td>\n",
       "    </tr>\n",
       "    <tr>\n",
       "      <th>100k-125k</th>\n",
       "      <td>0.090909</td>\n",
       "      <td>0.077185</td>\n",
       "      <td>0.068835</td>\n",
       "    </tr>\n",
       "    <tr>\n",
       "      <th>125k-150k</th>\n",
       "      <td>0.049013</td>\n",
       "      <td>0.051244</td>\n",
       "      <td>0.053041</td>\n",
       "    </tr>\n",
       "    <tr>\n",
       "      <th>150k-175k</th>\n",
       "      <td>0.023354</td>\n",
       "      <td>0.035509</td>\n",
       "      <td>0.040311</td>\n",
       "    </tr>\n",
       "    <tr>\n",
       "      <th>175k-200k</th>\n",
       "      <td>0.018743</td>\n",
       "      <td>0.028705</td>\n",
       "      <td>0.021452</td>\n",
       "    </tr>\n",
       "    <tr>\n",
       "      <th>&gt;200k</th>\n",
       "      <td>0.028666</td>\n",
       "      <td>0.180736</td>\n",
       "      <td>0.197784</td>\n",
       "    </tr>\n",
       "  </tbody>\n",
       "</table>\n",
       "</div>"
      ],
      "text/plain": [
       "           loan_club  scfp2010  scfp2019\n",
       "<25k        0.051318  0.129917  0.136256\n",
       "25k-50k     0.267616  0.210717  0.212400\n",
       "50k-75k     0.293275  0.166277  0.161716\n",
       "75k-100k    0.177107  0.119711  0.108204\n",
       "100k-125k   0.090909  0.077185  0.068835\n",
       "125k-150k   0.049013  0.051244  0.053041\n",
       "150k-175k   0.023354  0.035509  0.040311\n",
       "175k-200k   0.018743  0.028705  0.021452\n",
       ">200k       0.028666  0.180736  0.197784"
      ]
     },
     "execution_count": 6,
     "metadata": {},
     "output_type": "execute_result"
    }
   ],
   "source": [
    "bins=[0,25000,50000,75000,100000,125000,150000, 175000, 200000,np.inf]  \n",
    "labels=[\"<25k\",\"25k-50k\",\"50k-75k\",\"75k-100k\",\"100k-125k\",\"125k-150k\", \"150k-175k\", \"175k-200k\", \">200k\"]\n",
    "rename_map={\"annual_income\":\"loan_club\", \"INCOME\": \"scfp2010\", \"deinf_INCOME\":\"scfp2019\"}\n",
    "income_ratio = p.calculate_concat_ratio(loan_Income, scfp2010_Income, scfp2019_Income, bins, labels, rename_map, True)\n",
    "income_ratio"
   ]
  },
  {
   "cell_type": "code",
   "execution_count": 7,
   "id": "a78ebdf6",
   "metadata": {},
   "outputs": [
    {
     "data": {
      "text/plain": [
       "<AxesSubplot:title={'center':'The proportion of annual income in each category'}>"
      ]
     },
     "execution_count": 7,
     "metadata": {},
     "output_type": "execute_result"
    },
    {
     "data": {
      "image/png": "[encoded data removed]",
      "text/plain": [
       "<Figure size 720x360 with 1 Axes>"
      ]
     },
     "metadata": {
      "needs_background": "light"
     },
     "output_type": "display_data"
    }
   ],
   "source": [
    "income_ratio.plot(kind=\"bar\", title=\"The proportion of annual income in each category\", figsize=(10, 5))"
   ]
  },
  {
   "cell_type": "markdown",
   "id": "c3224c39",
   "metadata": {},
   "source": [
    "Since the numbers of data points of the three categories are not the same, we manually calssified the income range into 9 categories and calculated the proportion of annual income in each category respectively. According to the above chart, we can see that lending club has a higher percentage of income in the range of 25k-100k than general. And besides 0-25k, the general borrowers also show a peak at income > 200k, at which range the lending club users have a very few proportion."
   ]
  },
  {
   "cell_type": "markdown",
   "id": "a8e3e193",
   "metadata": {},
   "source": [
    "### compare debt"
   ]
  },
  {
   "cell_type": "code",
   "execution_count": 8,
   "id": "4315b169",
   "metadata": {},
   "outputs": [
    {
     "data": {
      "image/png": "[encoded data removed]",
      "text/plain": [
       "<Figure size 576x360 with 3 Axes>"
      ]
     },
     "metadata": {
      "needs_background": "light"
     },
     "output_type": "display_data"
    }
   ],
   "source": [
    "loan[\"ttlDEBT\"]=loan[\"total_credit_utilized\"]+loan[\"loan_amount\"]\n",
    "loan_debt=loan[\"ttlDEBT\"]\n",
    "scfp2010_debt = scfp2010_byCase[\"DEBT\"]\n",
    "scfp2019_debt = scfp2019_byCase[\"deinf_DEBT\"]\n",
    "p.draw_outliers([loan_debt, scfp2010_debt, scfp2019_debt], 'Distribution of Debt of different categories')"
   ]
  },
  {
   "cell_type": "markdown",
   "id": "cc9e8b28",
   "metadata": {},
   "source": [
    "Again, we filtered the group with annual income less than 200,000 to obtain more significant visualization results. "
   ]
  },
  {
   "cell_type": "code",
   "execution_count": 41,
   "id": "11d843e7",
   "metadata": {},
   "outputs": [
    {
     "data": {
      "image/png": "[encoded data removed]",
      "text/plain": [
       "<Figure size 432x288 with 1 Axes>"
      ]
     },
     "metadata": {
      "needs_background": "light"
     },
     "output_type": "display_data"
    },
    {
     "data": {
      "image/png": "[encoded data removed]",
      "text/plain": [
       "<Figure size 576x360 with 3 Axes>"
      ]
     },
     "metadata": {
      "needs_background": "light"
     },
     "output_type": "display_data"
    }
   ],
   "source": [
    "debt_remove_outlier=p.remove_outlier([loan_debt, scfp2010_debt,scfp2019_debt], 200000)\n",
    "p.draw_outliers(debt_remove_outlier, 'Distribution of Debt of different categories after removing outliers(>200k)')"
   ]
  },
  {
   "cell_type": "markdown",
   "id": "fb217610",
   "metadata": {},
   "source": [
    "We used the sum of total credit utilized and the loan amoount authorized through lending club as the total debt of lending club users. When high debt is removed, we can see that the upper boundary of lending club is much lower than other two categories, approximately at 75k. And the lower boundary of lending club is higher, at about 25k. While the lower boundaries of other two are more close to 10k.  "
   ]
  },
  {
   "cell_type": "code",
   "execution_count": 10,
   "id": "b5523b02",
   "metadata": {},
   "outputs": [
    {
     "data": {
      "text/html": [
       "<div>\n",
       "<style scoped>\n",
       "    .dataframe tbody tr th:only-of-type {\n",
       "        vertical-align: middle;\n",
       "    }\n",
       "\n",
       "    .dataframe tbody tr th {\n",
       "        vertical-align: top;\n",
       "    }\n",
       "\n",
       "    .dataframe thead th {\n",
       "        text-align: right;\n",
       "    }\n",
       "</style>\n",
       "<table border=\"1\" class=\"dataframe\">\n",
       "  <thead>\n",
       "    <tr style=\"text-align: right;\">\n",
       "      <th></th>\n",
       "      <th>loan_club</th>\n",
       "      <th>scfp2010</th>\n",
       "      <th>scfp2019</th>\n",
       "    </tr>\n",
       "  </thead>\n",
       "  <tbody>\n",
       "    <tr>\n",
       "      <th>&lt;25k</th>\n",
       "      <td>0.1634</td>\n",
       "      <td>0.294377</td>\n",
       "      <td>0.330447</td>\n",
       "    </tr>\n",
       "    <tr>\n",
       "      <th>25k-50k</th>\n",
       "      <td>0.2998</td>\n",
       "      <td>0.092321</td>\n",
       "      <td>0.099228</td>\n",
       "    </tr>\n",
       "    <tr>\n",
       "      <th>50k-75k</th>\n",
       "      <td>0.2252</td>\n",
       "      <td>0.059169</td>\n",
       "      <td>0.064592</td>\n",
       "    </tr>\n",
       "    <tr>\n",
       "      <th>75k-100k</th>\n",
       "      <td>0.1268</td>\n",
       "      <td>0.056022</td>\n",
       "      <td>0.059911</td>\n",
       "    </tr>\n",
       "    <tr>\n",
       "      <th>100k-125k</th>\n",
       "      <td>0.0785</td>\n",
       "      <td>0.057281</td>\n",
       "      <td>0.044933</td>\n",
       "    </tr>\n",
       "    <tr>\n",
       "      <th>125k-150k</th>\n",
       "      <td>0.0415</td>\n",
       "      <td>0.044901</td>\n",
       "      <td>0.044699</td>\n",
       "    </tr>\n",
       "    <tr>\n",
       "      <th>150k-175k</th>\n",
       "      <td>0.0224</td>\n",
       "      <td>0.038187</td>\n",
       "      <td>0.038615</td>\n",
       "    </tr>\n",
       "    <tr>\n",
       "      <th>175k-200k</th>\n",
       "      <td>0.0130</td>\n",
       "      <td>0.041544</td>\n",
       "      <td>0.036274</td>\n",
       "    </tr>\n",
       "    <tr>\n",
       "      <th>&gt;200k</th>\n",
       "      <td>0.0294</td>\n",
       "      <td>0.316198</td>\n",
       "      <td>0.281301</td>\n",
       "    </tr>\n",
       "  </tbody>\n",
       "</table>\n",
       "</div>"
      ],
      "text/plain": [
       "           loan_club  scfp2010  scfp2019\n",
       "<25k          0.1634  0.294377  0.330447\n",
       "25k-50k       0.2998  0.092321  0.099228\n",
       "50k-75k       0.2252  0.059169  0.064592\n",
       "75k-100k      0.1268  0.056022  0.059911\n",
       "100k-125k     0.0785  0.057281  0.044933\n",
       "125k-150k     0.0415  0.044901  0.044699\n",
       "150k-175k     0.0224  0.038187  0.038615\n",
       "175k-200k     0.0130  0.041544  0.036274\n",
       ">200k         0.0294  0.316198  0.281301"
      ]
     },
     "execution_count": 10,
     "metadata": {},
     "output_type": "execute_result"
    }
   ],
   "source": [
    "bins=[0,25000,50000,75000,100000,125000,150000, 175000, 200000,np.inf]  \n",
    "labels=[\"<25k\",\"25k-50k\",\"50k-75k\",\"75k-100k\",\"100k-125k\",\"125k-150k\", \"150k-175k\", \"175k-200k\", \">200k\"]\n",
    "rename_map={\"ttlDEBT\":\"loan_club\", \"DEBT\": \"scfp2010\", \"deinf_DEBT\":\"scfp2019\"}\n",
    "debt_ratio = p.calculate_concat_ratio(loan_debt, scfp2010_debt, scfp2019_debt, bins, labels, rename_map, True)\n",
    "debt_ratio"
   ]
  },
  {
   "cell_type": "code",
   "execution_count": 11,
   "id": "bafb5edc",
   "metadata": {},
   "outputs": [
    {
     "data": {
      "text/plain": [
       "<AxesSubplot:title={'center':'The proportion of debt in each category'}>"
      ]
     },
     "execution_count": 11,
     "metadata": {},
     "output_type": "execute_result"
    },
    {
     "data": {
      "image/png": "[encoded data removed]",
      "text/plain": [
       "<Figure size 720x360 with 1 Axes>"
      ]
     },
     "metadata": {
      "needs_background": "light"
     },
     "output_type": "display_data"
    }
   ],
   "source": [
    "debt_ratio.plot(kind=\"bar\", title=\"The proportion of debt in each category\", figsize=(10, 5))"
   ]
  },
  {
   "cell_type": "markdown",
   "id": "390e82a2",
   "metadata": {},
   "source": [
    "While looking at the proportion of debt balance in each category, we can see that lending club has a higher percentage of debt in the range of 25k-75k. And general borrower's debt peak are mainly at 0-25k and > 200k.Lending club has a higher debt  amount proportion than general, beside the amount value greater than 200k."
   ]
  },
  {
   "cell_type": "markdown",
   "id": "83dd4b2a",
   "metadata": {},
   "source": [
    "According to the above analysis, we find the similiar distribution between debt and income. So we come to a new assumption, is there any relationship between income and debt? Is it possible that richer people will be more likely to borrow large amounts?"
   ]
  },
  {
   "cell_type": "code",
   "execution_count": 39,
   "id": "e52ccf80",
   "metadata": {},
   "outputs": [
    {
     "data": {
      "text/plain": [
       "<AxesSubplot:title={'center':'The relation between annual income and debt balance(both < 200000)'}, xlabel='deinf_INCOME', ylabel='deinf_DEBT'>"
      ]
     },
     "execution_count": 39,
     "metadata": {},
     "output_type": "execute_result"
    },
    {
     "data": {
      "image/png": "[encoded data removed]",
      "text/plain": [
       "<Figure size 720x360 with 1 Axes>"
      ]
     },
     "metadata": {
      "needs_background": "light"
     },
     "output_type": "display_data"
    }
   ],
   "source": [
    "ax = scfp2010_byCase[(scfp2010_byCase[\"INCOME\"]<200000) & (scfp2010_byCase[\"DEBT\"]<200000)].plot.scatter(x='INCOME', y='DEBT', color='b', label='Y2010', figsize=(10, 5), title='The relation between annual income and debt balance(both < 200000)')\n",
    "scfp2019_byCase[(scfp2019_byCase[\"deinf_INCOME\"]<200000) & (scfp2019_byCase[\"deinf_DEBT\"]<200000)].plot.scatter(x='deinf_INCOME', y='deinf_DEBT', color='g', label='Y2019',ax=ax, figsize=(10, 5))"
   ]
  },
  {
   "cell_type": "code",
   "execution_count": 40,
   "id": "2b699f5b",
   "metadata": {},
   "outputs": [
    {
     "data": {
      "text/plain": [
       "<AxesSubplot:title={'center':'The relation between annual income and debt balance(200k-4000k)'}, xlabel='deinf_INCOME', ylabel='deinf_DEBT'>"
      ]
     },
     "execution_count": 40,
     "metadata": {},
     "output_type": "execute_result"
    },
    {
     "data": {
      "image/png": "[encoded data removed]",
      "text/plain": [
       "<Figure size 720x360 with 1 Axes>"
      ]
     },
     "metadata": {
      "needs_background": "light"
     },
     "output_type": "display_data"
    }
   ],
   "source": [
    "ax = scfp2010_byCase[((scfp2010_byCase[\"INCOME\"]>200000) | (scfp2010_byCase[\"DEBT\"]>200000))& ((scfp2010_byCase[\"DEBT\"]<4000000)& (scfp2010_byCase[\"INCOME\"]<4000000))].plot.scatter(x='INCOME', y='DEBT', color='b', label='Y2010', figsize=(10, 5), title='The relation between annual income and debt balance(200k-4000k)')\n",
    "scfp2019_byCase[((scfp2019_byCase[\"deinf_INCOME\"]>200000) | (scfp2019_byCase[\"deinf_DEBT\"]>200000)) & ((scfp2019_byCase[\"deinf_DEBT\"]<4000000)& (scfp2019_byCase[\"deinf_INCOME\"]<4000000))].plot.scatter(x='deinf_INCOME', y='deinf_DEBT', color='g', label='Y2019',ax=ax, figsize=(10, 5))"
   ]
  },
  {
   "cell_type": "markdown",
   "id": "10917156",
   "metadata": {},
   "source": [
    "To have a better visual presentation, we divided the data into two groups: those with both income and debt less than 200, and those with both income and debt less than 400 and either income or debt greater than 200, and plotted scatter plots based on their income and debt. Based on the charts, we can not see a clear correlation relationship between these two variables."
   ]
  },
  {
   "cell_type": "markdown",
   "id": "06525f0a",
   "metadata": {},
   "source": [
    "### compare debt to income ratio"
   ]
  },
  {
   "cell_type": "code",
   "execution_count": 44,
   "id": "71e0aa29",
   "metadata": {},
   "outputs": [
    {
     "data": {
      "image/png": "[encoded data removed]",
      "text/plain": [
       "<Figure size 576x360 with 3 Axes>"
      ]
     },
     "metadata": {
      "needs_background": "light"
     },
     "output_type": "display_data"
    }
   ],
   "source": [
    "loan_D2I = loan[\"debt_to_income\"]\n",
    "scfp2010_D2I = scfp2010_byCase[\"DEBT2INC\"]\n",
    "scfp2019_D2I = scfp2019_byCase[\"deinf_DEBT2INC\"]\n",
    "p.draw_outliers([loan_D2I, scfp2010_D2I, scfp2019_D2I], 'Distribution of D2I of different categories')"
   ]
  },
  {
   "cell_type": "code",
   "execution_count": 45,
   "id": "508ec041",
   "metadata": {},
   "outputs": [
    {
     "data": {
      "image/png": "[encoded data removed]",
      "text/plain": [
       "<Figure size 432x288 with 1 Axes>"
      ]
     },
     "metadata": {
      "needs_background": "light"
     },
     "output_type": "display_data"
    },
    {
     "data": {
      "image/png": "[encoded data removed]",
      "text/plain": [
       "<Figure size 576x360 with 3 Axes>"
      ]
     },
     "metadata": {
      "needs_background": "light"
     },
     "output_type": "display_data"
    }
   ],
   "source": [
    "D2I_remove_outlier=p.remove_outlier([loan_D2I, scfp2010_D2I,scfp2019_D2I], 100)\n",
    "p.draw_outliers(D2I_remove_outlier, 'Distribution of Debt to income ratio of different categories after removing outliers(>100)')"
   ]
  },
  {
   "cell_type": "code",
   "execution_count": 31,
   "id": "bc471609",
   "metadata": {},
   "outputs": [
    {
     "data": {
      "text/html": [
       "<div>\n",
       "<style scoped>\n",
       "    .dataframe tbody tr th:only-of-type {\n",
       "        vertical-align: middle;\n",
       "    }\n",
       "\n",
       "    .dataframe tbody tr th {\n",
       "        vertical-align: top;\n",
       "    }\n",
       "\n",
       "    .dataframe thead th {\n",
       "        text-align: right;\n",
       "    }\n",
       "</style>\n",
       "<table border=\"1\" class=\"dataframe\">\n",
       "  <thead>\n",
       "    <tr style=\"text-align: right;\">\n",
       "      <th></th>\n",
       "      <th>loan_club</th>\n",
       "      <th>scfp2010</th>\n",
       "      <th>scfp2019</th>\n",
       "    </tr>\n",
       "  </thead>\n",
       "  <tbody>\n",
       "    <tr>\n",
       "      <th>&lt;0.5</th>\n",
       "      <td>0.003217</td>\n",
       "      <td>0.335711</td>\n",
       "      <td>0.380763</td>\n",
       "    </tr>\n",
       "    <tr>\n",
       "      <th>0.5-1</th>\n",
       "      <td>0.005730</td>\n",
       "      <td>0.155057</td>\n",
       "      <td>0.161479</td>\n",
       "    </tr>\n",
       "    <tr>\n",
       "      <th>1-5</th>\n",
       "      <td>0.063028</td>\n",
       "      <td>0.434117</td>\n",
       "      <td>0.412591</td>\n",
       "    </tr>\n",
       "    <tr>\n",
       "      <th>5-10</th>\n",
       "      <td>0.138420</td>\n",
       "      <td>0.057491</td>\n",
       "      <td>0.036040</td>\n",
       "    </tr>\n",
       "    <tr>\n",
       "      <th>10-20</th>\n",
       "      <td>0.380780</td>\n",
       "      <td>0.011750</td>\n",
       "      <td>0.005617</td>\n",
       "    </tr>\n",
       "    <tr>\n",
       "      <th>20-40</th>\n",
       "      <td>0.374849</td>\n",
       "      <td>0.003777</td>\n",
       "      <td>0.002106</td>\n",
       "    </tr>\n",
       "    <tr>\n",
       "      <th>40-100</th>\n",
       "      <td>0.030659</td>\n",
       "      <td>0.001259</td>\n",
       "      <td>0.000936</td>\n",
       "    </tr>\n",
       "    <tr>\n",
       "      <th>&gt;100</th>\n",
       "      <td>0.003317</td>\n",
       "      <td>0.000839</td>\n",
       "      <td>0.000468</td>\n",
       "    </tr>\n",
       "  </tbody>\n",
       "</table>\n",
       "</div>"
      ],
      "text/plain": [
       "        loan_club  scfp2010  scfp2019\n",
       "<0.5     0.003217  0.335711  0.380763\n",
       "0.5-1    0.005730  0.155057  0.161479\n",
       "1-5      0.063028  0.434117  0.412591\n",
       "5-10     0.138420  0.057491  0.036040\n",
       "10-20    0.380780  0.011750  0.005617\n",
       "20-40    0.374849  0.003777  0.002106\n",
       "40-100   0.030659  0.001259  0.000936\n",
       ">100     0.003317  0.000839  0.000468"
      ]
     },
     "execution_count": 31,
     "metadata": {},
     "output_type": "execute_result"
    }
   ],
   "source": [
    "bins=[0,0.5,1,5,10,20,40,100, np.inf]  \n",
    "labels=[\"<0.5\",\"0.5-1\",\"1-5\",\"5-10\",\"10-20\",\"20-40\", \"40-100\", \">100\"]\n",
    "rename_map={\"debt_to_income\":\"loan_club\", \"DEBT2INC\": \"scfp2010\", \"deinf_DEBT2INC\":\"scfp2019\"}\n",
    "D2I_ratio = p.calculate_concat_ratio(loan_D2I, scfp2010_D2I, scfp2019_D2I, bins, labels, rename_map, True)\n",
    "D2I_ratio"
   ]
  },
  {
   "cell_type": "code",
   "execution_count": 32,
   "id": "4358ebe9",
   "metadata": {},
   "outputs": [
    {
     "data": {
      "text/plain": [
       "<AxesSubplot:title={'center':'The proportion of Debt to Income ratio in each category'}>"
      ]
     },
     "execution_count": 32,
     "metadata": {},
     "output_type": "execute_result"
    },
    {
     "data": {
      "image/png": "[encoded data removed]",
      "text/plain": [
       "<Figure size 720x360 with 1 Axes>"
      ]
     },
     "metadata": {
      "needs_background": "light"
     },
     "output_type": "display_data"
    }
   ],
   "source": [
    "D2I_ratio.plot(kind=\"bar\", title=\"The proportion of Debt to Income ratio in each category\", figsize=(10, 5))"
   ]
  },
  {
   "cell_type": "markdown",
   "id": "32517d88",
   "metadata": {},
   "source": [
    "The chart of proportion of debt-to-income ratio shows a great difference between lending club users and general borrowers. About 40% general borrowers have a debt-to-income ratio less than 0.5, which is a healthy ratio. And about 90% general borrowers have a ratio less than 1.5. For lending club users, their debt-to-income ratio is greater than 5, the main range is betwen 10-40, which is very unhealthy. According to most commercial banks, the DTI requirement for conducting a regular conforming Loan authorization is usually 43%. This may be the reason why lending club users do not choose commercial banks for their loans. As a conclusion, lending club users have higher debt-to-income ratio, as well as worse economice situation than borrowers from all other lending resources."
   ]
  },
  {
   "cell_type": "markdown",
   "id": "810fa052",
   "metadata": {},
   "source": [
    "### map"
   ]
  },
  {
   "cell_type": "code",
   "execution_count": 79,
   "id": "2382f73d",
   "metadata": {},
   "outputs": [
    {
     "data": {
      "text/html": [
       "<div>\n",
       "<style scoped>\n",
       "    .dataframe tbody tr th:only-of-type {\n",
       "        vertical-align: middle;\n",
       "    }\n",
       "\n",
       "    .dataframe tbody tr th {\n",
       "        vertical-align: top;\n",
       "    }\n",
       "\n",
       "    .dataframe thead th {\n",
       "        text-align: right;\n",
       "    }\n",
       "</style>\n",
       "<table border=\"1\" class=\"dataframe\">\n",
       "  <thead>\n",
       "    <tr style=\"text-align: right;\">\n",
       "      <th></th>\n",
       "      <th>state</th>\n",
       "      <th>loan_amount</th>\n",
       "      <th>state_cnt</th>\n",
       "      <th>loan_per_case</th>\n",
       "    </tr>\n",
       "  </thead>\n",
       "  <tbody>\n",
       "    <tr>\n",
       "      <th>0</th>\n",
       "      <td>AK</td>\n",
       "      <td>632850</td>\n",
       "      <td>33</td>\n",
       "      <td>19177.272727</td>\n",
       "    </tr>\n",
       "    <tr>\n",
       "      <th>1</th>\n",
       "      <td>AL</td>\n",
       "      <td>1946550</td>\n",
       "      <td>122</td>\n",
       "      <td>15955.327869</td>\n",
       "    </tr>\n",
       "    <tr>\n",
       "      <th>2</th>\n",
       "      <td>AR</td>\n",
       "      <td>979775</td>\n",
       "      <td>70</td>\n",
       "      <td>13996.785714</td>\n",
       "    </tr>\n",
       "    <tr>\n",
       "      <th>3</th>\n",
       "      <td>AZ</td>\n",
       "      <td>4113475</td>\n",
       "      <td>255</td>\n",
       "      <td>16131.274510</td>\n",
       "    </tr>\n",
       "    <tr>\n",
       "      <th>4</th>\n",
       "      <td>CA</td>\n",
       "      <td>22073700</td>\n",
       "      <td>1330</td>\n",
       "      <td>16596.766917</td>\n",
       "    </tr>\n",
       "    <tr>\n",
       "      <th>5</th>\n",
       "      <td>CO</td>\n",
       "      <td>4020525</td>\n",
       "      <td>235</td>\n",
       "      <td>17108.617021</td>\n",
       "    </tr>\n",
       "    <tr>\n",
       "      <th>6</th>\n",
       "      <td>CT</td>\n",
       "      <td>3258925</td>\n",
       "      <td>181</td>\n",
       "      <td>18005.110497</td>\n",
       "    </tr>\n",
       "    <tr>\n",
       "      <th>7</th>\n",
       "      <td>DC</td>\n",
       "      <td>394500</td>\n",
       "      <td>19</td>\n",
       "      <td>20763.157895</td>\n",
       "    </tr>\n",
       "    <tr>\n",
       "      <th>8</th>\n",
       "      <td>DE</td>\n",
       "      <td>300600</td>\n",
       "      <td>24</td>\n",
       "      <td>12525.000000</td>\n",
       "    </tr>\n",
       "    <tr>\n",
       "      <th>9</th>\n",
       "      <td>FL</td>\n",
       "      <td>11203675</td>\n",
       "      <td>732</td>\n",
       "      <td>15305.566940</td>\n",
       "    </tr>\n",
       "    <tr>\n",
       "      <th>10</th>\n",
       "      <td>GA</td>\n",
       "      <td>5545300</td>\n",
       "      <td>334</td>\n",
       "      <td>16602.694611</td>\n",
       "    </tr>\n",
       "    <tr>\n",
       "      <th>11</th>\n",
       "      <td>HI</td>\n",
       "      <td>674500</td>\n",
       "      <td>35</td>\n",
       "      <td>19271.428571</td>\n",
       "    </tr>\n",
       "    <tr>\n",
       "      <th>12</th>\n",
       "      <td>ID</td>\n",
       "      <td>636950</td>\n",
       "      <td>38</td>\n",
       "      <td>16761.842105</td>\n",
       "    </tr>\n",
       "    <tr>\n",
       "      <th>13</th>\n",
       "      <td>IL</td>\n",
       "      <td>6776600</td>\n",
       "      <td>382</td>\n",
       "      <td>17739.790576</td>\n",
       "    </tr>\n",
       "    <tr>\n",
       "      <th>14</th>\n",
       "      <td>IN</td>\n",
       "      <td>2692325</td>\n",
       "      <td>178</td>\n",
       "      <td>15125.421348</td>\n",
       "    </tr>\n",
       "    <tr>\n",
       "      <th>15</th>\n",
       "      <td>KS</td>\n",
       "      <td>1405500</td>\n",
       "      <td>89</td>\n",
       "      <td>15792.134831</td>\n",
       "    </tr>\n",
       "    <tr>\n",
       "      <th>16</th>\n",
       "      <td>KY</td>\n",
       "      <td>1509475</td>\n",
       "      <td>97</td>\n",
       "      <td>15561.597938</td>\n",
       "    </tr>\n",
       "    <tr>\n",
       "      <th>17</th>\n",
       "      <td>LA</td>\n",
       "      <td>1631175</td>\n",
       "      <td>96</td>\n",
       "      <td>16991.406250</td>\n",
       "    </tr>\n",
       "    <tr>\n",
       "      <th>18</th>\n",
       "      <td>MA</td>\n",
       "      <td>3801875</td>\n",
       "      <td>237</td>\n",
       "      <td>16041.666667</td>\n",
       "    </tr>\n",
       "    <tr>\n",
       "      <th>19</th>\n",
       "      <td>MD</td>\n",
       "      <td>3902375</td>\n",
       "      <td>247</td>\n",
       "      <td>15799.089069</td>\n",
       "    </tr>\n",
       "    <tr>\n",
       "      <th>20</th>\n",
       "      <td>ME</td>\n",
       "      <td>347275</td>\n",
       "      <td>26</td>\n",
       "      <td>13356.730769</td>\n",
       "    </tr>\n",
       "    <tr>\n",
       "      <th>21</th>\n",
       "      <td>MI</td>\n",
       "      <td>4036700</td>\n",
       "      <td>245</td>\n",
       "      <td>16476.326531</td>\n",
       "    </tr>\n",
       "    <tr>\n",
       "      <th>22</th>\n",
       "      <td>MN</td>\n",
       "      <td>2769525</td>\n",
       "      <td>159</td>\n",
       "      <td>17418.396226</td>\n",
       "    </tr>\n",
       "    <tr>\n",
       "      <th>23</th>\n",
       "      <td>MO</td>\n",
       "      <td>2651825</td>\n",
       "      <td>159</td>\n",
       "      <td>16678.144654</td>\n",
       "    </tr>\n",
       "    <tr>\n",
       "      <th>24</th>\n",
       "      <td>MS</td>\n",
       "      <td>1106850</td>\n",
       "      <td>72</td>\n",
       "      <td>15372.916667</td>\n",
       "    </tr>\n",
       "    <tr>\n",
       "      <th>25</th>\n",
       "      <td>MT</td>\n",
       "      <td>386200</td>\n",
       "      <td>24</td>\n",
       "      <td>16091.666667</td>\n",
       "    </tr>\n",
       "    <tr>\n",
       "      <th>26</th>\n",
       "      <td>NC</td>\n",
       "      <td>4809225</td>\n",
       "      <td>299</td>\n",
       "      <td>16084.364548</td>\n",
       "    </tr>\n",
       "    <tr>\n",
       "      <th>27</th>\n",
       "      <td>ND</td>\n",
       "      <td>258500</td>\n",
       "      <td>14</td>\n",
       "      <td>18464.285714</td>\n",
       "    </tr>\n",
       "    <tr>\n",
       "      <th>28</th>\n",
       "      <td>NE</td>\n",
       "      <td>758825</td>\n",
       "      <td>56</td>\n",
       "      <td>13550.446429</td>\n",
       "    </tr>\n",
       "    <tr>\n",
       "      <th>29</th>\n",
       "      <td>NH</td>\n",
       "      <td>722225</td>\n",
       "      <td>47</td>\n",
       "      <td>15366.489362</td>\n",
       "    </tr>\n",
       "    <tr>\n",
       "      <th>30</th>\n",
       "      <td>NJ</td>\n",
       "      <td>5665850</td>\n",
       "      <td>338</td>\n",
       "      <td>16762.869822</td>\n",
       "    </tr>\n",
       "    <tr>\n",
       "      <th>31</th>\n",
       "      <td>NM</td>\n",
       "      <td>695075</td>\n",
       "      <td>43</td>\n",
       "      <td>16164.534884</td>\n",
       "    </tr>\n",
       "    <tr>\n",
       "      <th>32</th>\n",
       "      <td>NV</td>\n",
       "      <td>2638750</td>\n",
       "      <td>158</td>\n",
       "      <td>16700.949367</td>\n",
       "    </tr>\n",
       "    <tr>\n",
       "      <th>33</th>\n",
       "      <td>NY</td>\n",
       "      <td>12589650</td>\n",
       "      <td>793</td>\n",
       "      <td>15875.977301</td>\n",
       "    </tr>\n",
       "    <tr>\n",
       "      <th>34</th>\n",
       "      <td>OH</td>\n",
       "      <td>5434125</td>\n",
       "      <td>338</td>\n",
       "      <td>16077.292899</td>\n",
       "    </tr>\n",
       "    <tr>\n",
       "      <th>35</th>\n",
       "      <td>OK</td>\n",
       "      <td>1448350</td>\n",
       "      <td>81</td>\n",
       "      <td>17880.864198</td>\n",
       "    </tr>\n",
       "    <tr>\n",
       "      <th>36</th>\n",
       "      <td>OR</td>\n",
       "      <td>2129450</td>\n",
       "      <td>130</td>\n",
       "      <td>16380.384615</td>\n",
       "    </tr>\n",
       "    <tr>\n",
       "      <th>37</th>\n",
       "      <td>PA</td>\n",
       "      <td>4665825</td>\n",
       "      <td>298</td>\n",
       "      <td>15657.130872</td>\n",
       "    </tr>\n",
       "    <tr>\n",
       "      <th>38</th>\n",
       "      <td>RI</td>\n",
       "      <td>751375</td>\n",
       "      <td>53</td>\n",
       "      <td>14176.886792</td>\n",
       "    </tr>\n",
       "    <tr>\n",
       "      <th>39</th>\n",
       "      <td>SC</td>\n",
       "      <td>2613900</td>\n",
       "      <td>145</td>\n",
       "      <td>18026.896552</td>\n",
       "    </tr>\n",
       "    <tr>\n",
       "      <th>40</th>\n",
       "      <td>SD</td>\n",
       "      <td>308700</td>\n",
       "      <td>20</td>\n",
       "      <td>15435.000000</td>\n",
       "    </tr>\n",
       "    <tr>\n",
       "      <th>41</th>\n",
       "      <td>TN</td>\n",
       "      <td>2651000</td>\n",
       "      <td>167</td>\n",
       "      <td>15874.251497</td>\n",
       "    </tr>\n",
       "    <tr>\n",
       "      <th>42</th>\n",
       "      <td>TX</td>\n",
       "      <td>13755275</td>\n",
       "      <td>806</td>\n",
       "      <td>17066.098015</td>\n",
       "    </tr>\n",
       "    <tr>\n",
       "      <th>43</th>\n",
       "      <td>UT</td>\n",
       "      <td>938700</td>\n",
       "      <td>61</td>\n",
       "      <td>15388.524590</td>\n",
       "    </tr>\n",
       "    <tr>\n",
       "      <th>44</th>\n",
       "      <td>VA</td>\n",
       "      <td>4465225</td>\n",
       "      <td>261</td>\n",
       "      <td>17108.141762</td>\n",
       "    </tr>\n",
       "    <tr>\n",
       "      <th>45</th>\n",
       "      <td>VT</td>\n",
       "      <td>336775</td>\n",
       "      <td>23</td>\n",
       "      <td>14642.391304</td>\n",
       "    </tr>\n",
       "    <tr>\n",
       "      <th>46</th>\n",
       "      <td>WA</td>\n",
       "      <td>3860700</td>\n",
       "      <td>235</td>\n",
       "      <td>16428.510638</td>\n",
       "    </tr>\n",
       "    <tr>\n",
       "      <th>47</th>\n",
       "      <td>WI</td>\n",
       "      <td>2028875</td>\n",
       "      <td>128</td>\n",
       "      <td>15850.585938</td>\n",
       "    </tr>\n",
       "    <tr>\n",
       "      <th>48</th>\n",
       "      <td>WV</td>\n",
       "      <td>981650</td>\n",
       "      <td>68</td>\n",
       "      <td>14436.029412</td>\n",
       "    </tr>\n",
       "    <tr>\n",
       "      <th>49</th>\n",
       "      <td>WY</td>\n",
       "      <td>312175</td>\n",
       "      <td>19</td>\n",
       "      <td>16430.263158</td>\n",
       "    </tr>\n",
       "  </tbody>\n",
       "</table>\n",
       "</div>"
      ],
      "text/plain": [
       "   state  loan_amount  state_cnt  loan_per_case\n",
       "0     AK       632850         33   19177.272727\n",
       "1     AL      1946550        122   15955.327869\n",
       "2     AR       979775         70   13996.785714\n",
       "3     AZ      4113475        255   16131.274510\n",
       "4     CA     22073700       1330   16596.766917\n",
       "5     CO      4020525        235   17108.617021\n",
       "6     CT      3258925        181   18005.110497\n",
       "7     DC       394500         19   20763.157895\n",
       "8     DE       300600         24   12525.000000\n",
       "9     FL     11203675        732   15305.566940\n",
       "10    GA      5545300        334   16602.694611\n",
       "11    HI       674500         35   19271.428571\n",
       "12    ID       636950         38   16761.842105\n",
       "13    IL      6776600        382   17739.790576\n",
       "14    IN      2692325        178   15125.421348\n",
       "15    KS      1405500         89   15792.134831\n",
       "16    KY      1509475         97   15561.597938\n",
       "17    LA      1631175         96   16991.406250\n",
       "18    MA      3801875        237   16041.666667\n",
       "19    MD      3902375        247   15799.089069\n",
       "20    ME       347275         26   13356.730769\n",
       "21    MI      4036700        245   16476.326531\n",
       "22    MN      2769525        159   17418.396226\n",
       "23    MO      2651825        159   16678.144654\n",
       "24    MS      1106850         72   15372.916667\n",
       "25    MT       386200         24   16091.666667\n",
       "26    NC      4809225        299   16084.364548\n",
       "27    ND       258500         14   18464.285714\n",
       "28    NE       758825         56   13550.446429\n",
       "29    NH       722225         47   15366.489362\n",
       "30    NJ      5665850        338   16762.869822\n",
       "31    NM       695075         43   16164.534884\n",
       "32    NV      2638750        158   16700.949367\n",
       "33    NY     12589650        793   15875.977301\n",
       "34    OH      5434125        338   16077.292899\n",
       "35    OK      1448350         81   17880.864198\n",
       "36    OR      2129450        130   16380.384615\n",
       "37    PA      4665825        298   15657.130872\n",
       "38    RI       751375         53   14176.886792\n",
       "39    SC      2613900        145   18026.896552\n",
       "40    SD       308700         20   15435.000000\n",
       "41    TN      2651000        167   15874.251497\n",
       "42    TX     13755275        806   17066.098015\n",
       "43    UT       938700         61   15388.524590\n",
       "44    VA      4465225        261   17108.141762\n",
       "45    VT       336775         23   14642.391304\n",
       "46    WA      3860700        235   16428.510638\n",
       "47    WI      2028875        128   15850.585938\n",
       "48    WV       981650         68   14436.029412\n",
       "49    WY       312175         19   16430.263158"
      ]
     },
     "execution_count": 79,
     "metadata": {},
     "output_type": "execute_result"
    }
   ],
   "source": [
    "loan[\"state_cnt\"]=loan[\"state\"]\n",
    "loan_by_state=loan.groupby(\"state\",as_index=False)\n",
    "state_income=loan_by_state.agg({\"loan_amount\":\"sum\", \"state_cnt\": \"count\"})\n",
    "state_income[\"loan_per_case\"]=state_income[\"loan_amount\"]/state_income[\"state_cnt\"]\n",
    "state_income"
   ]
  },
  {
   "cell_type": "code",
   "execution_count": 80,
   "id": "4436648c",
   "metadata": {},
   "outputs": [
    {
     "data": {
      "application/vnd.plotly.v1+json": {
       "config": {
        "plotlyServerURL": "https://plot.ly"
       },
       "data": [
        {
         "coloraxis": "coloraxis",
         "geo": "geo",
         "hovertemplate": "state=%{location}<br>loan_per_case=%{z}<extra></extra>",
         "locationmode": "USA-states",
         "locations": [
          "AK",
          "AL",
          "AR",
          "AZ",
          "CA",
          "CO",
          "CT",
          "DC",
          "DE",
          "FL",
          "GA",
          "HI",
          "ID",
          "IL",
          "IN",
          "KS",
          "KY",
          "LA",
          "MA",
          "MD",
          "ME",
          "MI",
          "MN",
          "MO",
          "MS",
          "MT",
          "NC",
          "ND",
          "NE",
          "NH",
          "NJ",
          "NM",
          "NV",
          "NY",
          "OH",
          "OK",
          "OR",
          "PA",
          "RI",
          "SC",
          "SD",
          "TN",
          "TX",
          "UT",
          "VA",
          "VT",
          "WA",
          "WI",
          "WV",
          "WY"
         ],
         "name": "",
         "type": "choropleth",
         "z": [
          19177.272727272728,
          15955.327868852459,
          13996.785714285714,
          16131.274509803921,
          16596.766917293233,
          17108.617021276597,
          18005.11049723757,
          20763.157894736843,
          12525,
          15305.56693989071,
          16602.694610778442,
          19271.428571428572,
          16761.842105263157,
          17739.79057591623,
          15125.421348314607,
          15792.134831460675,
          15561.59793814433,
          16991.40625,
          16041.666666666666,
          15799.089068825911,
          13356.73076923077,
          16476.326530612245,
          17418.396226415094,
          16678.14465408805,
          15372.916666666666,
          16091.666666666666,
          16084.364548494983,
          18464.285714285714,
          13550.44642857143,
          15366.489361702128,
          16762.86982248521,
          16164.53488372093,
          16700.949367088608,
          15875.977301387138,
          16077.292899408283,
          17880.864197530864,
          16380.384615384615,
          15657.130872483222,
          14176.88679245283,
          18026.896551724138,
          15435,
          15874.251497005987,
          17066.09801488834,
          15388.524590163934,
          17108.141762452105,
          14642.391304347826,
          16428.510638297874,
          15850.5859375,
          14436.029411764706,
          16430.263157894737
         ]
        }
       ],
       "layout": {
        "coloraxis": {
         "colorbar": {
          "title": {
           "text": "loan_per_case"
          }
         },
         "colorscale": [
          [
           0,
           "#fde725"
          ],
          [
           0.1111111111111111,
           "#b5de2b"
          ],
          [
           0.2222222222222222,
           "#6ece58"
          ],
          [
           0.3333333333333333,
           "#35b779"
          ],
          [
           0.4444444444444444,
           "#1f9e89"
          ],
          [
           0.5555555555555556,
           "#26828e"
          ],
          [
           0.6666666666666666,
           "#31688e"
          ],
          [
           0.7777777777777778,
           "#3e4989"
          ],
          [
           0.8888888888888888,
           "#482878"
          ],
          [
           1,
           "#440154"
          ]
         ]
        },
        "geo": {
         "center": {},
         "domain": {
          "x": [
           0,
           1
          ],
          "y": [
           0,
           1
          ]
         },
         "scope": "usa"
        },
        "legend": {
         "tracegroupgap": 0
        },
        "margin": {
         "t": 60
        },
        "template": {
         "data": {
          "bar": [
           {
            "error_x": {
             "color": "#2a3f5f"
            },
            "error_y": {
             "color": "#2a3f5f"
            },
            "marker": {
             "line": {
              "color": "#E5ECF6",
              "width": 0.5
             },
             "pattern": {
              "fillmode": "overlay",
              "size": 10,
              "solidity": 0.2
             }
            },
            "type": "bar"
           }
          ],
          "barpolar": [
           {
            "marker": {
             "line": {
              "color": "#E5ECF6",
              "width": 0.5
             },
             "pattern": {
              "fillmode": "overlay",
              "size": 10,
              "solidity": 0.2
             }
            },
            "type": "barpolar"
           }
          ],
          "carpet": [
           {
            "aaxis": {
             "endlinecolor": "#2a3f5f",
             "gridcolor": "white",
             "linecolor": "white",
             "minorgridcolor": "white",
             "startlinecolor": "#2a3f5f"
            },
            "baxis": {
             "endlinecolor": "#2a3f5f",
             "gridcolor": "white",
             "linecolor": "white",
             "minorgridcolor": "white",
             "startlinecolor": "#2a3f5f"
            },
            "type": "carpet"
           }
          ],
          "choropleth": [
           {
            "colorbar": {
             "outlinewidth": 0,
             "ticks": ""
            },
            "type": "choropleth"
           }
          ],
          "contour": [
           {
            "colorbar": {
             "outlinewidth": 0,
             "ticks": ""
            },
            "colorscale": [
             [
              0,
              "#0d0887"
             ],
             [
              0.1111111111111111,
              "#46039f"
             ],
             [
              0.2222222222222222,
              "#7201a8"
             ],
             [
              0.3333333333333333,
              "#9c179e"
             ],
             [
              0.4444444444444444,
              "#bd3786"
             ],
             [
              0.5555555555555556,
              "#d8576b"
             ],
             [
              0.6666666666666666,
              "#ed7953"
             ],
             [
              0.7777777777777778,
              "#fb9f3a"
             ],
             [
              0.8888888888888888,
              "#fdca26"
             ],
             [
              1,
              "#f0f921"
             ]
            ],
            "type": "contour"
           }
          ],
          "contourcarpet": [
           {
            "colorbar": {
             "outlinewidth": 0,
             "ticks": ""
            },
            "type": "contourcarpet"
           }
          ],
          "heatmap": [
           {
            "colorbar": {
             "outlinewidth": 0,
             "ticks": ""
            },
            "colorscale": [
             [
              0,
              "#0d0887"
             ],
             [
              0.1111111111111111,
              "#46039f"
             ],
             [
              0.2222222222222222,
              "#7201a8"
             ],
             [
              0.3333333333333333,
              "#9c179e"
             ],
             [
              0.4444444444444444,
              "#bd3786"
             ],
             [
              0.5555555555555556,
              "#d8576b"
             ],
             [
              0.6666666666666666,
              "#ed7953"
             ],
             [
              0.7777777777777778,
              "#fb9f3a"
             ],
             [
              0.8888888888888888,
              "#fdca26"
             ],
             [
              1,
              "#f0f921"
             ]
            ],
            "type": "heatmap"
           }
          ],
          "heatmapgl": [
           {
            "colorbar": {
             "outlinewidth": 0,
             "ticks": ""
            },
            "colorscale": [
             [
              0,
              "#0d0887"
             ],
             [
              0.1111111111111111,
              "#46039f"
             ],
             [
              0.2222222222222222,
              "#7201a8"
             ],
             [
              0.3333333333333333,
              "#9c179e"
             ],
             [
              0.4444444444444444,
              "#bd3786"
             ],
             [
              0.5555555555555556,
              "#d8576b"
             ],
             [
              0.6666666666666666,
              "#ed7953"
             ],
             [
              0.7777777777777778,
              "#fb9f3a"
             ],
             [
              0.8888888888888888,
              "#fdca26"
             ],
             [
              1,
              "#f0f921"
             ]
            ],
            "type": "heatmapgl"
           }
          ],
          "histogram": [
           {
            "marker": {
             "pattern": {
              "fillmode": "overlay",
              "size": 10,
              "solidity": 0.2
             }
            },
            "type": "histogram"
           }
          ],
          "histogram2d": [
           {
            "colorbar": {
             "outlinewidth": 0,
             "ticks": ""
            },
            "colorscale": [
             [
              0,
              "#0d0887"
             ],
             [
              0.1111111111111111,
              "#46039f"
             ],
             [
              0.2222222222222222,
              "#7201a8"
             ],
             [
              0.3333333333333333,
              "#9c179e"
             ],
             [
              0.4444444444444444,
              "#bd3786"
             ],
             [
              0.5555555555555556,
              "#d8576b"
             ],
             [
              0.6666666666666666,
              "#ed7953"
             ],
             [
              0.7777777777777778,
              "#fb9f3a"
             ],
             [
              0.8888888888888888,
              "#fdca26"
             ],
             [
              1,
              "#f0f921"
             ]
            ],
            "type": "histogram2d"
           }
          ],
          "histogram2dcontour": [
           {
            "colorbar": {
             "outlinewidth": 0,
             "ticks": ""
            },
            "colorscale": [
             [
              0,
              "#0d0887"
             ],
             [
              0.1111111111111111,
              "#46039f"
             ],
             [
              0.2222222222222222,
              "#7201a8"
             ],
             [
              0.3333333333333333,
              "#9c179e"
             ],
             [
              0.4444444444444444,
              "#bd3786"
             ],
             [
              0.5555555555555556,
              "#d8576b"
             ],
             [
              0.6666666666666666,
              "#ed7953"
             ],
             [
              0.7777777777777778,
              "#fb9f3a"
             ],
             [
              0.8888888888888888,
              "#fdca26"
             ],
             [
              1,
              "#f0f921"
             ]
            ],
            "type": "histogram2dcontour"
           }
          ],
          "mesh3d": [
           {
            "colorbar": {
             "outlinewidth": 0,
             "ticks": ""
            },
            "type": "mesh3d"
           }
          ],
          "parcoords": [
           {
            "line": {
             "colorbar": {
              "outlinewidth": 0,
              "ticks": ""
             }
            },
            "type": "parcoords"
           }
          ],
          "pie": [
           {
            "automargin": true,
            "type": "pie"
           }
          ],
          "scatter": [
           {
            "marker": {
             "colorbar": {
              "outlinewidth": 0,
              "ticks": ""
             }
            },
            "type": "scatter"
           }
          ],
          "scatter3d": [
           {
            "line": {
             "colorbar": {
              "outlinewidth": 0,
              "ticks": ""
             }
            },
            "marker": {
             "colorbar": {
              "outlinewidth": 0,
              "ticks": ""
             }
            },
            "type": "scatter3d"
           }
          ],
          "scattercarpet": [
           {
            "marker": {
             "colorbar": {
              "outlinewidth": 0,
              "ticks": ""
             }
            },
            "type": "scattercarpet"
           }
          ],
          "scattergeo": [
           {
            "marker": {
             "colorbar": {
              "outlinewidth": 0,
              "ticks": ""
             }
            },
            "type": "scattergeo"
           }
          ],
          "scattergl": [
           {
            "marker": {
             "colorbar": {
              "outlinewidth": 0,
              "ticks": ""
             }
            },
            "type": "scattergl"
           }
          ],
          "scattermapbox": [
           {
            "marker": {
             "colorbar": {
              "outlinewidth": 0,
              "ticks": ""
             }
            },
            "type": "scattermapbox"
           }
          ],
          "scatterpolar": [
           {
            "marker": {
             "colorbar": {
              "outlinewidth": 0,
              "ticks": ""
             }
            },
            "type": "scatterpolar"
           }
          ],
          "scatterpolargl": [
           {
            "marker": {
             "colorbar": {
              "outlinewidth": 0,
              "ticks": ""
             }
            },
            "type": "scatterpolargl"
           }
          ],
          "scatterternary": [
           {
            "marker": {
             "colorbar": {
              "outlinewidth": 0,
              "ticks": ""
             }
            },
            "type": "scatterternary"
           }
          ],
          "surface": [
           {
            "colorbar": {
             "outlinewidth": 0,
             "ticks": ""
            },
            "colorscale": [
             [
              0,
              "#0d0887"
             ],
             [
              0.1111111111111111,
              "#46039f"
             ],
             [
              0.2222222222222222,
              "#7201a8"
             ],
             [
              0.3333333333333333,
              "#9c179e"
             ],
             [
              0.4444444444444444,
              "#bd3786"
             ],
             [
              0.5555555555555556,
              "#d8576b"
             ],
             [
              0.6666666666666666,
              "#ed7953"
             ],
             [
              0.7777777777777778,
              "#fb9f3a"
             ],
             [
              0.8888888888888888,
              "#fdca26"
             ],
             [
              1,
              "#f0f921"
             ]
            ],
            "type": "surface"
           }
          ],
          "table": [
           {
            "cells": {
             "fill": {
              "color": "#EBF0F8"
             },
             "line": {
              "color": "white"
             }
            },
            "header": {
             "fill": {
              "color": "#C8D4E3"
             },
             "line": {
              "color": "white"
             }
            },
            "type": "table"
           }
          ]
         },
         "layout": {
          "annotationdefaults": {
           "arrowcolor": "#2a3f5f",
           "arrowhead": 0,
           "arrowwidth": 1
          },
          "autotypenumbers": "strict",
          "coloraxis": {
           "colorbar": {
            "outlinewidth": 0,
            "ticks": ""
           }
          },
          "colorscale": {
           "diverging": [
            [
             0,
             "#8e0152"
            ],
            [
             0.1,
             "#c51b7d"
            ],
            [
             0.2,
             "#de77ae"
            ],
            [
             0.3,
             "#f1b6da"
            ],
            [
             0.4,
             "#fde0ef"
            ],
            [
             0.5,
             "#f7f7f7"
            ],
            [
             0.6,
             "#e6f5d0"
            ],
            [
             0.7,
             "#b8e186"
            ],
            [
             0.8,
             "#7fbc41"
            ],
            [
             0.9,
             "#4d9221"
            ],
            [
             1,
             "#276419"
            ]
           ],
           "sequential": [
            [
             0,
             "#0d0887"
            ],
            [
             0.1111111111111111,
             "#46039f"
            ],
            [
             0.2222222222222222,
             "#7201a8"
            ],
            [
             0.3333333333333333,
             "#9c179e"
            ],
            [
             0.4444444444444444,
             "#bd3786"
            ],
            [
             0.5555555555555556,
             "#d8576b"
            ],
            [
             0.6666666666666666,
             "#ed7953"
            ],
            [
             0.7777777777777778,
             "#fb9f3a"
            ],
            [
             0.8888888888888888,
             "#fdca26"
            ],
            [
             1,
             "#f0f921"
            ]
           ],
           "sequentialminus": [
            [
             0,
             "#0d0887"
            ],
            [
             0.1111111111111111,
             "#46039f"
            ],
            [
             0.2222222222222222,
             "#7201a8"
            ],
            [
             0.3333333333333333,
             "#9c179e"
            ],
            [
             0.4444444444444444,
             "#bd3786"
            ],
            [
             0.5555555555555556,
             "#d8576b"
            ],
            [
             0.6666666666666666,
             "#ed7953"
            ],
            [
             0.7777777777777778,
             "#fb9f3a"
            ],
            [
             0.8888888888888888,
             "#fdca26"
            ],
            [
             1,
             "#f0f921"
            ]
           ]
          },
          "colorway": [
           "#636efa",
           "#EF553B",
           "#00cc96",
           "#ab63fa",
           "#FFA15A",
           "#19d3f3",
           "#FF6692",
           "#B6E880",
           "#FF97FF",
           "#FECB52"
          ],
          "font": {
           "color": "#2a3f5f"
          },
          "geo": {
           "bgcolor": "white",
           "lakecolor": "white",
           "landcolor": "#E5ECF6",
           "showlakes": true,
           "showland": true,
           "subunitcolor": "white"
          },
          "hoverlabel": {
           "align": "left"
          },
          "hovermode": "closest",
          "mapbox": {
           "style": "light"
          },
          "paper_bgcolor": "white",
          "plot_bgcolor": "#E5ECF6",
          "polar": {
           "angularaxis": {
            "gridcolor": "white",
            "linecolor": "white",
            "ticks": ""
           },
           "bgcolor": "#E5ECF6",
           "radialaxis": {
            "gridcolor": "white",
            "linecolor": "white",
            "ticks": ""
           }
          },
          "scene": {
           "xaxis": {
            "backgroundcolor": "#E5ECF6",
            "gridcolor": "white",
            "gridwidth": 2,
            "linecolor": "white",
            "showbackground": true,
            "ticks": "",
            "zerolinecolor": "white"
           },
           "yaxis": {
            "backgroundcolor": "#E5ECF6",
            "gridcolor": "white",
            "gridwidth": 2,
            "linecolor": "white",
            "showbackground": true,
            "ticks": "",
            "zerolinecolor": "white"
           },
           "zaxis": {
            "backgroundcolor": "#E5ECF6",
            "gridcolor": "white",
            "gridwidth": 2,
            "linecolor": "white",
            "showbackground": true,
            "ticks": "",
            "zerolinecolor": "white"
           }
          },
          "shapedefaults": {
           "line": {
            "color": "#2a3f5f"
           }
          },
          "ternary": {
           "aaxis": {
            "gridcolor": "white",
            "linecolor": "white",
            "ticks": ""
           },
           "baxis": {
            "gridcolor": "white",
            "linecolor": "white",
            "ticks": ""
           },
           "bgcolor": "#E5ECF6",
           "caxis": {
            "gridcolor": "white",
            "linecolor": "white",
            "ticks": ""
           }
          },
          "title": {
           "x": 0.05
          },
          "xaxis": {
           "automargin": true,
           "gridcolor": "white",
           "linecolor": "white",
           "ticks": "",
           "title": {
            "standoff": 15
           },
           "zerolinecolor": "white",
           "zerolinewidth": 2
          },
          "yaxis": {
           "automargin": true,
           "gridcolor": "white",
           "linecolor": "white",
           "ticks": "",
           "title": {
            "standoff": 15
           },
           "zerolinecolor": "white",
           "zerolinewidth": 2
          }
         }
        }
       }
      },
      "text/html": [
       "<div>                            <div id=\"1a99ce4c-3328-46e1-ae33-5255b7fecbb9\" class=\"plotly-graph-div\" style=\"height:525px; width:100%;\"></div>            <script type=\"text/javascript\">                require([\"plotly\"], function(Plotly) {                    window.PLOTLYENV=window.PLOTLYENV || {};                                    if (document.getElementById(\"1a99ce4c-3328-46e1-ae33-5255b7fecbb9\")) {                    Plotly.newPlot(                        \"1a99ce4c-3328-46e1-ae33-5255b7fecbb9\",                        [{\"coloraxis\":\"coloraxis\",\"geo\":\"geo\",\"hovertemplate\":\"state=%{location}<br>loan_per_case=%{z}<extra></extra>\",\"locationmode\":\"USA-states\",\"locations\":[\"AK\",\"AL\",\"AR\",\"AZ\",\"CA\",\"CO\",\"CT\",\"DC\",\"DE\",\"FL\",\"GA\",\"HI\",\"ID\",\"IL\",\"IN\",\"KS\",\"KY\",\"LA\",\"MA\",\"MD\",\"ME\",\"MI\",\"MN\",\"MO\",\"MS\",\"MT\",\"NC\",\"ND\",\"NE\",\"NH\",\"NJ\",\"NM\",\"NV\",\"NY\",\"OH\",\"OK\",\"OR\",\"PA\",\"RI\",\"SC\",\"SD\",\"TN\",\"TX\",\"UT\",\"VA\",\"VT\",\"WA\",\"WI\",\"WV\",\"WY\"],\"name\":\"\",\"z\":[19177.272727272728,15955.327868852459,13996.785714285714,16131.274509803921,16596.766917293233,17108.617021276597,18005.11049723757,20763.157894736843,12525.0,15305.56693989071,16602.694610778442,19271.428571428572,16761.842105263157,17739.79057591623,15125.421348314607,15792.134831460675,15561.59793814433,16991.40625,16041.666666666666,15799.089068825911,13356.73076923077,16476.326530612245,17418.396226415094,16678.14465408805,15372.916666666666,16091.666666666666,16084.364548494983,18464.285714285714,13550.44642857143,15366.489361702128,16762.86982248521,16164.53488372093,16700.949367088608,15875.977301387138,16077.292899408283,17880.864197530864,16380.384615384615,15657.130872483222,14176.88679245283,18026.896551724138,15435.0,15874.251497005987,17066.09801488834,15388.524590163934,17108.141762452105,14642.391304347826,16428.510638297874,15850.5859375,14436.029411764706,16430.263157894737],\"type\":\"choropleth\"}],                        {\"template\":{\"data\":{\"bar\":[{\"error_x\":{\"color\":\"#2a3f5f\"},\"error_y\":{\"color\":\"#2a3f5f\"},\"marker\":{\"line\":{\"color\":\"#E5ECF6\",\"width\":0.5},\"pattern\":{\"fillmode\":\"overlay\",\"size\":10,\"solidity\":0.2}},\"type\":\"bar\"}],\"barpolar\":[{\"marker\":{\"line\":{\"color\":\"#E5ECF6\",\"width\":0.5},\"pattern\":{\"fillmode\":\"overlay\",\"size\":10,\"solidity\":0.2}},\"type\":\"barpolar\"}],\"carpet\":[{\"aaxis\":{\"endlinecolor\":\"#2a3f5f\",\"gridcolor\":\"white\",\"linecolor\":\"white\",\"minorgridcolor\":\"white\",\"startlinecolor\":\"#2a3f5f\"},\"baxis\":{\"endlinecolor\":\"#2a3f5f\",\"gridcolor\":\"white\",\"linecolor\":\"white\",\"minorgridcolor\":\"white\",\"startlinecolor\":\"#2a3f5f\"},\"type\":\"carpet\"}],\"choropleth\":[{\"colorbar\":{\"outlinewidth\":0,\"ticks\":\"\"},\"type\":\"choropleth\"}],\"contour\":[{\"colorbar\":{\"outlinewidth\":0,\"ticks\":\"\"},\"colorscale\":[[0.0,\"#0d0887\"],[0.1111111111111111,\"#46039f\"],[0.2222222222222222,\"#7201a8\"],[0.3333333333333333,\"#9c179e\"],[0.4444444444444444,\"#bd3786\"],[0.5555555555555556,\"#d8576b\"],[0.6666666666666666,\"#ed7953\"],[0.7777777777777778,\"#fb9f3a\"],[0.8888888888888888,\"#fdca26\"],[1.0,\"#f0f921\"]],\"type\":\"contour\"}],\"contourcarpet\":[{\"colorbar\":{\"outlinewidth\":0,\"ticks\":\"\"},\"type\":\"contourcarpet\"}],\"heatmap\":[{\"colorbar\":{\"outlinewidth\":0,\"ticks\":\"\"},\"colorscale\":[[0.0,\"#0d0887\"],[0.1111111111111111,\"#46039f\"],[0.2222222222222222,\"#7201a8\"],[0.3333333333333333,\"#9c179e\"],[0.4444444444444444,\"#bd3786\"],[0.5555555555555556,\"#d8576b\"],[0.6666666666666666,\"#ed7953\"],[0.7777777777777778,\"#fb9f3a\"],[0.8888888888888888,\"#fdca26\"],[1.0,\"#f0f921\"]],\"type\":\"heatmap\"}],\"heatmapgl\":[{\"colorbar\":{\"outlinewidth\":0,\"ticks\":\"\"},\"colorscale\":[[0.0,\"#0d0887\"],[0.1111111111111111,\"#46039f\"],[0.2222222222222222,\"#7201a8\"],[0.3333333333333333,\"#9c179e\"],[0.4444444444444444,\"#bd3786\"],[0.5555555555555556,\"#d8576b\"],[0.6666666666666666,\"#ed7953\"],[0.7777777777777778,\"#fb9f3a\"],[0.8888888888888888,\"#fdca26\"],[1.0,\"#f0f921\"]],\"type\":\"heatmapgl\"}],\"histogram\":[{\"marker\":{\"pattern\":{\"fillmode\":\"overlay\",\"size\":10,\"solidity\":0.2}},\"type\":\"histogram\"}],\"histogram2d\":[{\"colorbar\":{\"outlinewidth\":0,\"ticks\":\"\"},\"colorscale\":[[0.0,\"#0d0887\"],[0.1111111111111111,\"#46039f\"],[0.2222222222222222,\"#7201a8\"],[0.3333333333333333,\"#9c179e\"],[0.4444444444444444,\"#bd3786\"],[0.5555555555555556,\"#d8576b\"],[0.6666666666666666,\"#ed7953\"],[0.7777777777777778,\"#fb9f3a\"],[0.8888888888888888,\"#fdca26\"],[1.0,\"#f0f921\"]],\"type\":\"histogram2d\"}],\"histogram2dcontour\":[{\"colorbar\":{\"outlinewidth\":0,\"ticks\":\"\"},\"colorscale\":[[0.0,\"#0d0887\"],[0.1111111111111111,\"#46039f\"],[0.2222222222222222,\"#7201a8\"],[0.3333333333333333,\"#9c179e\"],[0.4444444444444444,\"#bd3786\"],[0.5555555555555556,\"#d8576b\"],[0.6666666666666666,\"#ed7953\"],[0.7777777777777778,\"#fb9f3a\"],[0.8888888888888888,\"#fdca26\"],[1.0,\"#f0f921\"]],\"type\":\"histogram2dcontour\"}],\"mesh3d\":[{\"colorbar\":{\"outlinewidth\":0,\"ticks\":\"\"},\"type\":\"mesh3d\"}],\"parcoords\":[{\"line\":{\"colorbar\":{\"outlinewidth\":0,\"ticks\":\"\"}},\"type\":\"parcoords\"}],\"pie\":[{\"automargin\":true,\"type\":\"pie\"}],\"scatter\":[{\"marker\":{\"colorbar\":{\"outlinewidth\":0,\"ticks\":\"\"}},\"type\":\"scatter\"}],\"scatter3d\":[{\"line\":{\"colorbar\":{\"outlinewidth\":0,\"ticks\":\"\"}},\"marker\":{\"colorbar\":{\"outlinewidth\":0,\"ticks\":\"\"}},\"type\":\"scatter3d\"}],\"scattercarpet\":[{\"marker\":{\"colorbar\":{\"outlinewidth\":0,\"ticks\":\"\"}},\"type\":\"scattercarpet\"}],\"scattergeo\":[{\"marker\":{\"colorbar\":{\"outlinewidth\":0,\"ticks\":\"\"}},\"type\":\"scattergeo\"}],\"scattergl\":[{\"marker\":{\"colorbar\":{\"outlinewidth\":0,\"ticks\":\"\"}},\"type\":\"scattergl\"}],\"scattermapbox\":[{\"marker\":{\"colorbar\":{\"outlinewidth\":0,\"ticks\":\"\"}},\"type\":\"scattermapbox\"}],\"scatterpolar\":[{\"marker\":{\"colorbar\":{\"outlinewidth\":0,\"ticks\":\"\"}},\"type\":\"scatterpolar\"}],\"scatterpolargl\":[{\"marker\":{\"colorbar\":{\"outlinewidth\":0,\"ticks\":\"\"}},\"type\":\"scatterpolargl\"}],\"scatterternary\":[{\"marker\":{\"colorbar\":{\"outlinewidth\":0,\"ticks\":\"\"}},\"type\":\"scatterternary\"}],\"surface\":[{\"colorbar\":{\"outlinewidth\":0,\"ticks\":\"\"},\"colorscale\":[[0.0,\"#0d0887\"],[0.1111111111111111,\"#46039f\"],[0.2222222222222222,\"#7201a8\"],[0.3333333333333333,\"#9c179e\"],[0.4444444444444444,\"#bd3786\"],[0.5555555555555556,\"#d8576b\"],[0.6666666666666666,\"#ed7953\"],[0.7777777777777778,\"#fb9f3a\"],[0.8888888888888888,\"#fdca26\"],[1.0,\"#f0f921\"]],\"type\":\"surface\"}],\"table\":[{\"cells\":{\"fill\":{\"color\":\"#EBF0F8\"},\"line\":{\"color\":\"white\"}},\"header\":{\"fill\":{\"color\":\"#C8D4E3\"},\"line\":{\"color\":\"white\"}},\"type\":\"table\"}]},\"layout\":{\"annotationdefaults\":{\"arrowcolor\":\"#2a3f5f\",\"arrowhead\":0,\"arrowwidth\":1},\"autotypenumbers\":\"strict\",\"coloraxis\":{\"colorbar\":{\"outlinewidth\":0,\"ticks\":\"\"}},\"colorscale\":{\"diverging\":[[0,\"#8e0152\"],[0.1,\"#c51b7d\"],[0.2,\"#de77ae\"],[0.3,\"#f1b6da\"],[0.4,\"#fde0ef\"],[0.5,\"#f7f7f7\"],[0.6,\"#e6f5d0\"],[0.7,\"#b8e186\"],[0.8,\"#7fbc41\"],[0.9,\"#4d9221\"],[1,\"#276419\"]],\"sequential\":[[0.0,\"#0d0887\"],[0.1111111111111111,\"#46039f\"],[0.2222222222222222,\"#7201a8\"],[0.3333333333333333,\"#9c179e\"],[0.4444444444444444,\"#bd3786\"],[0.5555555555555556,\"#d8576b\"],[0.6666666666666666,\"#ed7953\"],[0.7777777777777778,\"#fb9f3a\"],[0.8888888888888888,\"#fdca26\"],[1.0,\"#f0f921\"]],\"sequentialminus\":[[0.0,\"#0d0887\"],[0.1111111111111111,\"#46039f\"],[0.2222222222222222,\"#7201a8\"],[0.3333333333333333,\"#9c179e\"],[0.4444444444444444,\"#bd3786\"],[0.5555555555555556,\"#d8576b\"],[0.6666666666666666,\"#ed7953\"],[0.7777777777777778,\"#fb9f3a\"],[0.8888888888888888,\"#fdca26\"],[1.0,\"#f0f921\"]]},\"colorway\":[\"#636efa\",\"#EF553B\",\"#00cc96\",\"#ab63fa\",\"#FFA15A\",\"#19d3f3\",\"#FF6692\",\"#B6E880\",\"#FF97FF\",\"#FECB52\"],\"font\":{\"color\":\"#2a3f5f\"},\"geo\":{\"bgcolor\":\"white\",\"lakecolor\":\"white\",\"landcolor\":\"#E5ECF6\",\"showlakes\":true,\"showland\":true,\"subunitcolor\":\"white\"},\"hoverlabel\":{\"align\":\"left\"},\"hovermode\":\"closest\",\"mapbox\":{\"style\":\"light\"},\"paper_bgcolor\":\"white\",\"plot_bgcolor\":\"#E5ECF6\",\"polar\":{\"angularaxis\":{\"gridcolor\":\"white\",\"linecolor\":\"white\",\"ticks\":\"\"},\"bgcolor\":\"#E5ECF6\",\"radialaxis\":{\"gridcolor\":\"white\",\"linecolor\":\"white\",\"ticks\":\"\"}},\"scene\":{\"xaxis\":{\"backgroundcolor\":\"#E5ECF6\",\"gridcolor\":\"white\",\"gridwidth\":2,\"linecolor\":\"white\",\"showbackground\":true,\"ticks\":\"\",\"zerolinecolor\":\"white\"},\"yaxis\":{\"backgroundcolor\":\"#E5ECF6\",\"gridcolor\":\"white\",\"gridwidth\":2,\"linecolor\":\"white\",\"showbackground\":true,\"ticks\":\"\",\"zerolinecolor\":\"white\"},\"zaxis\":{\"backgroundcolor\":\"#E5ECF6\",\"gridcolor\":\"white\",\"gridwidth\":2,\"linecolor\":\"white\",\"showbackground\":true,\"ticks\":\"\",\"zerolinecolor\":\"white\"}},\"shapedefaults\":{\"line\":{\"color\":\"#2a3f5f\"}},\"ternary\":{\"aaxis\":{\"gridcolor\":\"white\",\"linecolor\":\"white\",\"ticks\":\"\"},\"baxis\":{\"gridcolor\":\"white\",\"linecolor\":\"white\",\"ticks\":\"\"},\"bgcolor\":\"#E5ECF6\",\"caxis\":{\"gridcolor\":\"white\",\"linecolor\":\"white\",\"ticks\":\"\"}},\"title\":{\"x\":0.05},\"xaxis\":{\"automargin\":true,\"gridcolor\":\"white\",\"linecolor\":\"white\",\"ticks\":\"\",\"title\":{\"standoff\":15},\"zerolinecolor\":\"white\",\"zerolinewidth\":2},\"yaxis\":{\"automargin\":true,\"gridcolor\":\"white\",\"linecolor\":\"white\",\"ticks\":\"\",\"title\":{\"standoff\":15},\"zerolinecolor\":\"white\",\"zerolinewidth\":2}}},\"geo\":{\"domain\":{\"x\":[0.0,1.0],\"y\":[0.0,1.0]},\"center\":{},\"scope\":\"usa\"},\"coloraxis\":{\"colorbar\":{\"title\":{\"text\":\"loan_per_case\"}},\"colorscale\":[[0.0,\"#fde725\"],[0.1111111111111111,\"#b5de2b\"],[0.2222222222222222,\"#6ece58\"],[0.3333333333333333,\"#35b779\"],[0.4444444444444444,\"#1f9e89\"],[0.5555555555555556,\"#26828e\"],[0.6666666666666666,\"#31688e\"],[0.7777777777777778,\"#3e4989\"],[0.8888888888888888,\"#482878\"],[1.0,\"#440154\"]]},\"legend\":{\"tracegroupgap\":0},\"margin\":{\"t\":60}},                        {\"responsive\": true}                    ).then(function(){\n",
       "                            \n",
       "var gd = document.getElementById('1a99ce4c-3328-46e1-ae33-5255b7fecbb9');\n",
       "var x = new MutationObserver(function (mutations, observer) {{\n",
       "        var display = window.getComputedStyle(gd).display;\n",
       "        if (!display || display === 'none') {{\n",
       "            console.log([gd, 'removed!']);\n",
       "            Plotly.purge(gd);\n",
       "            observer.disconnect();\n",
       "        }}\n",
       "}});\n",
       "\n",
       "// Listen for the removal of the full notebook cells\n",
       "var notebookContainer = gd.closest('#notebook-container');\n",
       "if (notebookContainer) {{\n",
       "    x.observe(notebookContainer, {childList: true});\n",
       "}}\n",
       "\n",
       "// Listen for the clearing of the current output cell\n",
       "var outputEl = gd.closest('.output');\n",
       "if (outputEl) {{\n",
       "    x.observe(outputEl, {childList: true});\n",
       "}}\n",
       "\n",
       "                        })                };                });            </script>        </div>"
      ]
     },
     "metadata": {},
     "output_type": "display_data"
    }
   ],
   "source": [
    "fig = px.choropleth(state_income,\n",
    "                    locations='state', \n",
    "                    locationmode=\"USA-states\", \n",
    "                    scope=\"usa\",\n",
    "                    color='loan_per_case',\n",
    "                    color_continuous_scale=\"Viridis_r\", \n",
    "                    \n",
    "                    )\n",
    "fig.show()"
   ]
  },
  {
   "cell_type": "code",
   "execution_count": null,
   "id": "50cc72f4",
   "metadata": {},
   "outputs": [],
   "source": []
  }
 ],
 "metadata": {
  "kernelspec": {
   "display_name": "Python 3 (ipykernel)",
   "language": "python",
   "name": "python3"
  },
  "language_info": {
   "codemirror_mode": {
    "name": "ipython",
    "version": 3
   },
   "file_extension": ".py",
   "mimetype": "text/x-python",
   "name": "python",
   "nbconvert_exporter": "python",
   "pygments_lexer": "ipython3",
   "version": "3.8.6"
  }
 },
 "nbformat": 4,
 "nbformat_minor": 5
}
